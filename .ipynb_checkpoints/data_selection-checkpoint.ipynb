{
 "cells": [
  {
   "cell_type": "code",
   "execution_count": 3,
   "id": "3e32c310-f98f-402e-91de-15284271d426",
   "metadata": {},
   "outputs": [
    {
     "name": "stdout",
     "output_type": "stream",
     "text": [
      "Dataset Created Successfully!\n"
     ]
    }
   ],
   "source": [
    "import os\n",
    "import random\n",
    "import shutil  # Fixed the import statement\n",
    "\n",
    "# Define paths\n",
    "org = \"./archive/Real Life Violence Dataset\"  # Source dataset folder\n",
    "new = \"./archive/Dataset\"  # Destination folder\n",
    "\n",
    "# Create destination directory if it doesn't exist\n",
    "os.makedirs(new, exist_ok=True)\n",
    "\n",
    "# Get class names (subdirectories inside the source folder)\n",
    "classes = os.listdir(org)\n",
    "\n",
    "# Number of videos to sample per class\n",
    "num_vid = 300\n",
    "\n",
    "for name in classes:\n",
    "    class_dir = os.path.join(new, name)\n",
    "    os.makedirs(class_dir, exist_ok=True)  # Create class folder in the new dataset\n",
    "    \n",
    "    # List videos inside each class\n",
    "    class_videos = os.listdir(os.path.join(org, name))\n",
    "\n",
    "    # Ensure we don't try to sample more videos than available\n",
    "    num_to_sample = min(num_vid, len(class_videos))\n",
    "    \n",
    "    selected_videos = random.sample(class_videos, num_to_sample)\n",
    "\n",
    "    for video in selected_videos:\n",
    "        src = os.path.join(org, name, video)\n",
    "        dst = os.path.join(class_dir, video)\n",
    "        shutil.copyfile(src, dst)  # Copy file to new location\n",
    "\n",
    "print(\"Dataset Created Successfully!\")\n"
   ]
  },
  {
   "cell_type": "code",
   "execution_count": null,
   "id": "16be07f6-37da-425a-ae53-9d19d45433fe",
   "metadata": {},
   "outputs": [],
   "source": []
  }
 ],
 "metadata": {
  "kernelspec": {
   "display_name": "Python 3 (ipykernel)",
   "language": "python",
   "name": "python3"
  },
  "language_info": {
   "codemirror_mode": {
    "name": "ipython",
    "version": 3
   },
   "file_extension": ".py",
   "mimetype": "text/x-python",
   "name": "python",
   "nbconvert_exporter": "python",
   "pygments_lexer": "ipython3",
   "version": "3.10.11"
  }
 },
 "nbformat": 4,
 "nbformat_minor": 5
}
