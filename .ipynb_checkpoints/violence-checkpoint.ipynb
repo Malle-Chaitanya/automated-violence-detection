{
 "cells": [
  {
   "cell_type": "code",
   "execution_count": 1,
   "id": "59d0654e-f83b-4a5d-8816-34587c3d1d93",
   "metadata": {},
   "outputs": [
    {
     "name": "stdout",
     "output_type": "stream",
     "text": [
      "Windows-10-10.0.22631-SP0\n"
     ]
    }
   ],
   "source": [
    "import os\n",
    "import platform\n",
    "from IPython.display import clear_output\n",
    "print(platform.platform())\n",
    "\n",
    "def resolve_dir(Dir):\n",
    "    if not os.path.exists(Dir):\n",
    "        os.mkdir(Dir)\n",
    "\n",
    "def reset_path(Dir):\n",
    "    if not os.path.exists(Dir):\n",
    "        os.mkdir(Dir)\n",
    "    else:\n",
    "        os.system('rm -f {}/*'.format( Dir))"
   ]
  },
  {
   "cell_type": "code",
   "execution_count": null,
   "id": "8bb5432a-09c0-4271-ad3a-7cce1e269044",
   "metadata": {},
   "outputs": [],
   "source": [
    "!pip install tensorflow==2.18.0\n"
   ]
  },
  {
   "cell_type": "code",
   "execution_count": null,
   "id": "8d025e5b-48cb-4e1b-a0c5-31f24558bce1",
   "metadata": {},
   "outputs": [],
   "source": [
    "!pip install --upgrade tensorflow==2.18.0\n"
   ]
  },
  {
   "cell_type": "code",
   "execution_count": null,
   "id": "f4e0c8ad-777b-4c30-917b-5aca49bdd36b",
   "metadata": {},
   "outputs": [],
   "source": [
    "\n",
    "!pip install --upgrade protobuf"
   ]
  },
  {
   "cell_type": "code",
   "execution_count": null,
   "id": "d285a95d-e150-43cf-b9c6-dabbd615611f",
   "metadata": {},
   "outputs": [],
   "source": [
    "!pip install protobuf==3.19.0"
   ]
  },
  {
   "cell_type": "code",
   "execution_count": null,
   "id": "e6ad2eb1-3c6a-465a-89fd-30321e01f27e",
   "metadata": {},
   "outputs": [],
   "source": [
    "!pip show protobuf\n"
   ]
  },
  {
   "cell_type": "code",
   "execution_count": null,
   "id": "51865dd6-7d95-4c30-a6a1-e8a70b71b54e",
   "metadata": {},
   "outputs": [],
   "source": [
    "import os\n",
    "os.environ['PROTOCOL_BUFFERS_PYTHON_IMPLEMENTATION'] = 'python'\n"
   ]
  },
  {
   "cell_type": "code",
   "execution_count": null,
   "id": "b9a1efc6-933f-46b3-acd6-f62e55f63916",
   "metadata": {},
   "outputs": [],
   "source": [
    "import tensorflow as tf\n",
    "tf.random.set_seed(73)"
   ]
  },
  {
   "cell_type": "code",
   "execution_count": null,
   "id": "ae77fb79-d15f-42fa-a307-c980785da68e",
   "metadata": {},
   "outputs": [],
   "source": []
  }
 ],
 "metadata": {
  "kernelspec": {
   "display_name": "Python 3 (ipykernel)",
   "language": "python",
   "name": "python3"
  },
  "language_info": {
   "codemirror_mode": {
    "name": "ipython",
    "version": 3
   },
   "file_extension": ".py",
   "mimetype": "text/x-python",
   "name": "python",
   "nbconvert_exporter": "python",
   "pygments_lexer": "ipython3",
   "version": "3.10.11"
  }
 },
 "nbformat": 4,
 "nbformat_minor": 5
}
